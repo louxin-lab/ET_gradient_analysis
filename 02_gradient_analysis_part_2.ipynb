{
 "cells": [
  {
   "cell_type": "markdown",
   "metadata": {},
   "source": [
    "# 模块分析：在梯度1&2上，统计yeo模块的前后差异"
   ]
  },
  {
   "cell_type": "code",
   "execution_count": 1,
   "metadata": {},
   "outputs": [
    {
     "name": "stdout",
     "output_type": "stream",
     "text": [
      "1 9.770924289364837e-05\n",
      "2 0.1347621070943037\n",
      "3 0.0030698052096581304\n",
      "4 0.16655562499759788\n",
      "5 0.040363280264528886\n",
      "6 0.0033998555262653757\n",
      "7 0.9590124607529042\n",
      "===================\n",
      "1 3.990890491448741e-12\n",
      "2 7.233711878108e-05\n",
      "3 2.2067852317157434e-06\n",
      "4 6.1254878542757705e-06\n",
      "5 3.784930138323475e-09\n",
      "6 1.0854381219548561e-11\n",
      "7 0.7002630649511832\n"
     ]
    }
   ],
   "source": [
    "import numpy as np\n",
    "import pandas as pd\n",
    "import seaborn as sns\n",
    "import matplotlib.pyplot as plt\n",
    "from scipy.stats import ttest_rel, ttest_ind\n",
    "\n",
    "sns.set_theme(style=\"white\", rc={\"axes.facecolor\": (0, 0, 0, 0)})\n",
    "\n",
    "# Create the data\n",
    "df = pd.read_csv(r\"E:\\006_ET_MRgFUS\\12_gradient_batch2.1\\07_second_gradient_aligned_mean_ROI\\统计.csv\")\n",
    "#df = pd.read_csv(r\"E:\\006_ET_MRgFUS\\09_gradient_batch2\\04_second_gradient_aligned_mean\\second_gradient_整合.csv\")\n",
    "\n",
    "for i in range(1, 8):\n",
    "    sub_df = df.loc[df['Subnetwork'] == i]\n",
    "\n",
    "    values1 = sub_df['NCNCNC'].values\n",
    "    values2 = sub_df['ET000d'].values\n",
    "    values3 = sub_df['ET180d'].values\n",
    "\n",
    "    ts, ps = ttest_ind(values1, values2)\n",
    "    print(i, ps)\n",
    "\n",
    "print(\"===================\")\n",
    "\n",
    "for i in range(1, 8):\n",
    "    sub_df = df.loc[df['Subnetwork'] == i]\n",
    "\n",
    "    values1 = sub_df['NCNCNC'].values\n",
    "    values2 = sub_df['ET000d'].values\n",
    "    values3 = sub_df['ET180d'].values\n",
    "\n",
    "    ts, ps = ttest_rel(values2, values3)\n",
    "    print(i, ps)"
   ]
  },
  {
   "cell_type": "code",
   "execution_count": 2,
   "metadata": {},
   "outputs": [
    {
     "name": "stdout",
     "output_type": "stream",
     "text": [
      "modular 1 000d vs 180d 1.7482786505091985 0.09375345304645832 0.3645412984194189\n",
      "modular 1 000d vs ncnc 2.593966716655186 0.016227487898236633 0.7620315724607168\n",
      "modular 1 180d vs ncnc 1.5843192993104098 0.1267757448995797 0.4106458315993846\n",
      "=============================\n",
      "modular 2 000d vs 180d 0.8683835794317157 0.3941555115970845 0.18107049324198946\n",
      "modular 2 000d vs ncnc -0.753995968027144 0.4585019849714226 -0.23064549130362744\n",
      "modular 2 180d vs ncnc -2.5395715705260136 0.018318142333095176 -0.6652062732761829\n",
      "=============================\n",
      "modular 3 000d vs 180d -1.4316283145180335 0.16569990862863157 -0.2985151391492453\n",
      "modular 3 000d vs ncnc -2.076014867668712 0.049255684474656086 -0.5795850283996462\n",
      "modular 3 180d vs ncnc -0.8505589180815293 0.40378257854893873 -0.24705672055926675\n",
      "=============================\n",
      "modular 4 000d vs 180d -1.2695067968361418 0.21695597913457915 -0.26471046588376196\n",
      "modular 4 000d vs ncnc -1.166437712944067 0.25539027703235506 -0.323568324067006\n",
      "modular 4 180d vs ncnc -0.1607879140584748 0.8736643634819392 -0.033423825682474935\n",
      "=============================\n",
      "modular 5 000d vs 180d -1.8759127188905091 0.0734163124224943 -0.3911548414016685\n",
      "modular 5 000d vs ncnc -1.7077891262211418 0.10114029189496623 -0.5160573512857137\n",
      "modular 5 180d vs ncnc -0.028394411647952356 0.9775925241820479 -0.007088478598058569\n",
      "=============================\n",
      "modular 6 000d vs 180d -2.7007750693794508 0.01275650097453245 -0.5631505310916115\n",
      "modular 6 000d vs ncnc -2.08129581746544 0.04872754828659902 -0.6090459773336446\n",
      "modular 6 180d vs ncnc 0.3523014868867946 0.7278199051323083 0.10853813273333779\n",
      "=============================\n",
      "modular 7 000d vs 180d 0.09778113905343269 0.9229532246983914 0.02038877691555987\n",
      "modular 7 000d vs ncnc -0.030793957115238826 0.9756995208336934 -0.008994500615428266\n",
      "modular 7 180d vs ncnc -0.1332141429359192 0.8951827154952989 -0.03330715400847107\n",
      "=============================\n"
     ]
    }
   ],
   "source": [
    "import matplotlib.pyplot as plt\n",
    "from scipy.stats import ttest_rel, ttest_ind\n",
    "from mytoolkit1.ttest import ind_cohen_d, rel_cohen_d\n",
    "import pandas as pd\n",
    "import seaborn as sns\n",
    "import numpy as np\n",
    "from mpl_toolkits.mplot3d import Axes3D\n",
    "from datasets import subject_ET_FUS\n",
    "\"\"\"\n",
    "import importlib\n",
    "importlib.reload(ind_cohen_d)\n",
    "\"\"\"\n",
    "\n",
    "subjects = subject_ET_FUS.load_subjects(r\"E:\\006_ET_MRgFUS\\02_data_management\\data_management_add_NC2.csv\")\n",
    "\n",
    "subnetwork_path = r'E:\\006_ET_MRgFUS\\09_gradient_batch2\\02_nii_mask\\7network_atlas1039.csv'\n",
    "subnetwork_df = pd.read_csv(subnetwork_path)\n",
    "subnetwork_labels = subnetwork_df['Subnetwork'].values\n",
    "\n",
    "def read_subject_gradients(df_path, subnetwork_labels,\n",
    "                            subnetwork_i, ):\n",
    "    df1 = pd.read_csv(df_path, index_col=0)\n",
    "    x = df1['gradient'].values\n",
    "    x = x[subnetwork_labels==subnetwork_i]\n",
    "    return x\n",
    "\n",
    "for i in range(1,8): \n",
    "    mean_values1 = []\n",
    "    mean_values2 = []\n",
    "    mean_values3 = []\n",
    "    for subject in subjects:\n",
    "        path1 = subject.get_observation('base').gradient.build_path('batch2.1/aligned_gradient2.csv')\n",
    "        values1 = read_subject_gradients(path1, subnetwork_labels, i,)\n",
    "        mean_value1 = np.mean(values1)\n",
    "        mean_values1.append(mean_value1)\n",
    "\n",
    "        path2 = subject.get_observation('180d').gradient.build_path('batch2.1/aligned_gradient2.csv')\n",
    "        values2 = read_subject_gradients(path2, subnetwork_labels, i,)\n",
    "        mean_value2 = np.mean(values2)\n",
    "        mean_values2.append(mean_value2)\n",
    "\n",
    "        path3 = subject.get_observation('ncnc').gradient.build_path('batch2.1/aligned_gradient2.csv')\n",
    "        values3 = read_subject_gradients(path3, subnetwork_labels, i,)\n",
    "        mean_value3 = np.mean(values3)\n",
    "        mean_values3.append(mean_value3)\n",
    "\n",
    "    ts, ps = ttest_rel(mean_values1, mean_values2)\n",
    "    d3 = rel_cohen_d(mean_values1, mean_values2)\n",
    "    print(\"modular\",i,\"000d vs 180d\", ts, ps, d3)\n",
    "    ts, ps = ttest_rel(mean_values1, mean_values3)\n",
    "    d1 = ind_cohen_d(mean_values1, mean_values3)\n",
    "    print(\"modular\",i,\"000d vs ncnc\", ts, ps, d1)\n",
    "    ts, ps = ttest_rel(mean_values2, mean_values3)\n",
    "    d2 = ind_cohen_d(mean_values2, mean_values3)\n",
    "    print(\"modular\",i,\"180d vs ncnc\", ts, ps, d2)\n",
    "    print(\"=============================\")\n",
    "\n",
    "    '''\n",
    "    ax = sns.kdeplot(x=mean_values1)\n",
    "    sns.kdeplot(x=mean_values2, ax=ax)\n",
    "    plt.show()\n",
    "    plt.close()\n",
    "    print(ps)\n",
    "    '''"
   ]
  },
  {
   "cell_type": "code",
   "execution_count": 10,
   "metadata": {},
   "outputs": [
    {
     "data": {
      "image/png": "[encoded data removed]",
      "text/plain": [
       "<Figure size 432x288 with 1 Axes>"
      ]
     },
     "metadata": {
      "needs_background": "light"
     },
     "output_type": "display_data"
    },
    {
     "data": {
      "image/png": "[encoded data removed]",
      "text/plain": [
       "<Figure size 432x288 with 1 Axes>"
      ]
     },
     "metadata": {
      "needs_background": "light"
     },
     "output_type": "display_data"
    },
    {
     "data": {
      "image/png": "[encoded data removed]",
      "text/plain": [
       "<Figure size 432x288 with 1 Axes>"
      ]
     },
     "metadata": {
      "needs_background": "light"
     },
     "output_type": "display_data"
    },
    {
     "data": {
      "image/png": "[encoded data removed]",
      "text/plain": [
       "<Figure size 432x288 with 1 Axes>"
      ]
     },
     "metadata": {
      "needs_background": "light"
     },
     "output_type": "display_data"
    },
    {
     "data": {
      "image/png": "[encoded data removed]",
      "text/plain": [
       "<Figure size 432x288 with 1 Axes>"
      ]
     },
     "metadata": {
      "needs_background": "light"
     },
     "output_type": "display_data"
    },
    {
     "data": {
      "image/png": "[encoded data removed]",
      "text/plain": [
       "<Figure size 432x288 with 1 Axes>"
      ]
     },
     "metadata": {
      "needs_background": "light"
     },
     "output_type": "display_data"
    },
    {
     "data": {
      "image/png": "[encoded data removed]",
      "text/plain": [
       "<Figure size 432x288 with 1 Axes>"
      ]
     },
     "metadata": {
      "needs_background": "light"
     },
     "output_type": "display_data"
    }
   ],
   "source": [
    "import matplotlib.pyplot as plt\n",
    "from scipy.stats import ttest_rel, ttest_ind\n",
    "import pandas as pd\n",
    "import seaborn as sns\n",
    "import numpy as np\n",
    "from mpl_toolkits.mplot3d import Axes3D\n",
    "from datasets import subject_ET_FUS\n",
    "\n",
    "subjects = subject_ET_FUS.load_subjects(r\"E:\\006_ET_MRgFUS\\02_data_management\\data_management_add_NC.csv\")\n",
    "\n",
    "subnetwork_path = r'E:\\006_ET_MRgFUS\\09_gradient_batch2\\02_nii_mask\\7network_atlas1039.csv'\n",
    "subnetwork_df = pd.read_csv(subnetwork_path)\n",
    "subnetwork_labels = subnetwork_df['Subnetwork'].values\n",
    "\n",
    "def read_subject_gradients(df_path, subnetwork_labels,\n",
    "                            subnetwork_i, ):\n",
    "    df1 = pd.read_csv(df_path, index_col=0)\n",
    "    x = df1['gradient'].values\n",
    "    x = x[subnetwork_labels==subnetwork_i]\n",
    "    return x\n",
    "\n",
    "for i in range(1,8): \n",
    "    mean_values1 = []\n",
    "    mean_values2 = []\n",
    "    mean_values3 = []\n",
    "    for subject in subjects:\n",
    "        path1 = subject.get_observation('ncnc').gradient.build_path('batch2.1/aligned_gradient2.csv')\n",
    "        values1 = read_subject_gradients(path1, subnetwork_labels, i,)\n",
    "        mean_value1 = np.mean(values1)\n",
    "        mean_values1.append(mean_value1)\n",
    "\n",
    "        path2 = subject.get_observation('base').gradient.build_path('batch2.1/aligned_gradient2.csv')\n",
    "        values2 = read_subject_gradients(path2, subnetwork_labels, i,)\n",
    "        mean_value2 = np.mean(values2)\n",
    "        mean_values2.append(mean_value2)\n",
    "\n",
    "        path3 = subject.get_observation('180d').gradient.build_path('batch2.1/aligned_gradient2.csv')\n",
    "        values3 = read_subject_gradients(path3, subnetwork_labels, i,)\n",
    "        mean_value3 = np.mean(values3)\n",
    "        mean_values3.append(mean_value3)\n",
    "\n",
    "    mean_values = mean_values1 + mean_values2 + mean_values3\n",
    "    x = [1 for _ in range(len(mean_values1))] + [2 for _ in range(len(mean_values2))] + [3 for _ in range(len(mean_values3))]\n",
    "    \n",
    "    sns.barplot(x=x, y=mean_values, palette=\"Greys\") #\"tab10\"\n",
    "    plt.show()\n",
    "    plt.close()\n"
   ]
  },
  {
   "cell_type": "code",
   "execution_count": null,
   "metadata": {},
   "outputs": [
    {
     "data": {
      "application/x.notebook.stdout": "i=0\nET180d_vs_ET000d var_ET180d:0.36, var_ET000d:0.35, var_p:0.30251831833554566\nET000d_vs_HCHCHC var_ET000d:0.35, var_HCHCHC:0.36, var_p:0.4074120391456115\nET180d_vs_HCHCHC var_ET180d:0.36, var_HCHCHC:0.36, var_p:0.805253711471887\ni=1\nET180d_vs_ET000d var_ET180d:0.19, var_ET000d:0.23, var_p:0.0008890760735059606\nET000d_vs_HCHCHC var_ET000d:0.23, var_HCHCHC:0.22, var_p:0.3190823477576129\nET180d_vs_HCHCHC var_ET180d:0.19, var_HCHCHC:0.22, var_p:0.043954148544845875\ni=2\nET180d_vs_ET000d var_ET180d:0.13, var_ET000d:0.13, var_p:0.898531920722258\nET000d_vs_HCHCHC var_ET000d:0.13, var_HCHCHC:0.12, var_p:0.4758849802178651\nET180d_vs_HCHCHC var_ET180d:0.13, var_HCHCHC:0.12, var_p:0.48353354750057354\ni=3\nET180d_vs_ET000d var_ET180d:0.08, var_ET000d:0.08, var_p:0.9084661404855283\nET000d_vs_HCHCHC var_ET000d:0.08, var_HCHCHC:0.08, var_p:0.520990118073497\nET180d_vs_HCHCHC var_ET180d:0.08, var_HCHCHC:0.08, var_p:0.6367025755440598\ni=4\nET180d_vs_ET000d var_ET180d:0.05, var_ET000d:0.05, var_p:0.8663674138594684\nET000d_vs_HCHCHC var_ET000d:0.05, var_HCHCHC:0.05, var_p:0.3627428771053641\nET180d_vs_HCHCHC var_ET180d:0.05, var_HCHCHC:0.05, var_p:0.3930350425287038\ni=5\nET180d_vs_ET000d var_ET180d:0.04, var_ET000d:0.04, var_p:0.26243076878795724\nET000d_vs_HCHCHC var_ET000d:0.04, var_HCHCHC:0.04, var_p:0.9283210897883388\nET180d_vs_HCHCHC var_ET180d:0.04, var_HCHCHC:0.04, var_p:0.17437958954718402\ni=6\nET180d_vs_ET000d var_ET180d:0.03, var_ET000d:0.03, var_p:0.015912040226526085\nET000d_vs_HCHCHC var_ET000d:0.03, var_HCHCHC:0.03, var_p:0.08621799509162435\nET180d_vs_HCHCHC var_ET180d:0.03, var_HCHCHC:0.03, var_p:0.43261773319699204\ni=7\nET180d_vs_ET000d var_ET180d:0.02, var_ET000d:0.02, var_p:0.05289667961580025\nET000d_vs_HCHCHC var_ET000d:0.02, var_HCHCHC:0.02, var_p:0.34786351702512985\nET180d_vs_HCHCHC var_ET180d:0.02, var_HCHCHC:0.02, var_p:0.5560245490380953\ni=8\nET180d_vs_ET000d var_ET180d:0.02, var_ET000d:0.02, var_p:0.009903573764745212\nET000d_vs_HCHCHC var_ET000d:0.02, var_HCHCHC:0.02, var_p:0.2711161900476415\nET180d_vs_HCHCHC var_ET180d:0.02, var_HCHCHC:0.02, var_p:0.13345193368853978\ni=9\nET180d_vs_ET000d var_ET180d:0.01, var_ET000d:0.01, var_p:0.03675350825678999\nET000d_vs_HCHCHC var_ET000d:0.01, var_HCHCHC:0.01, var_p:0.09941906050433766\nET180d_vs_HCHCHC var_ET180d:0.01, var_HCHCHC:0.01, var_p:0.5455898941004294\ni=10\nET180d_vs_ET000d var_ET180d:0.01, var_ET000d:0.01, var_p:0.1805515025706363\nET000d_vs_HCHCHC var_ET000d:0.01, var_HCHCHC:0.01, var_p:0.3288242948504343\nET180d_vs_HCHCHC var_ET180d:0.01, var_HCHCHC:0.01, var_p:0.6211603571475743\ni=11\nET180d_vs_ET000d var_ET180d:0.01, var_ET000d:0.01, var_p:0.07406168963626006\nET000d_vs_HCHCHC var_ET000d:0.01, var_HCHCHC:0.01, var_p:0.3058983926545618\nET180d_vs_HCHCHC var_ET180d:0.01, var_HCHCHC:0.01, var_p:0.33837905588373085\ni=12\nET180d_vs_ET000d var_ET180d:0.01, var_ET000d:0.01, var_p:0.055106992728376686\nET000d_vs_HCHCHC var_ET000d:0.01, var_HCHCHC:0.01, var_p:0.03160873053609664\nET180d_vs_HCHCHC var_ET180d:0.01, var_HCHCHC:0.01, var_p:0.7355484439643016\ni=13\nET180d_vs_ET000d var_ET180d:0.01, var_ET000d:0.01, var_p:0.12046762090567557\nET000d_vs_HCHCHC var_ET000d:0.01, var_HCHCHC:0.01, var_p:0.06308951895523465\nET180d_vs_HCHCHC var_ET180d:0.01, var_HCHCHC:0.01, var_p:0.9735104205913457\ni=14\nET180d_vs_ET000d var_ET180d:0.01, var_ET000d:0.00, var_p:0.032066913500549785\nET000d_vs_HCHCHC var_ET000d:0.00, var_HCHCHC:0.00, var_p:0.12039490794573506\nET180d_vs_HCHCHC var_ET180d:0.01, var_HCHCHC:0.00, var_p:0.34647825391576514\ni=15\nET180d_vs_ET000d var_ET180d:0.00, var_ET000d:0.00, var_p:0.14793117210349654\nET000d_vs_HCHCHC var_ET000d:0.00, var_HCHCHC:0.00, var_p:0.2138882528362542\nET180d_vs_HCHCHC var_ET180d:0.00, var_HCHCHC:0.00, var_p:0.6984585136593916\ni=16\nET180d_vs_ET000d var_ET180d:0.00, var_ET000d:0.00, var_p:0.044557181390817865\nET000d_vs_HCHCHC var_ET000d:0.00, var_HCHCHC:0.00, var_p:0.04978330593245306\nET180d_vs_HCHCHC var_ET180d:0.00, var_HCHCHC:0.00, var_p:0.8586594903062487\ni=17\nET180d_vs_ET000d var_ET180d:0.00, var_ET000d:0.00, var_p:0.11275247075536923\nET000d_vs_HCHCHC var_ET000d:0.00, var_HCHCHC:0.00, var_p:0.1669718806364093\nET180d_vs_HCHCHC var_ET180d:0.00, var_HCHCHC:0.00, var_p:0.977004791564547\ni=18\nET180d_vs_ET000d var_ET180d:0.00, var_ET000d:0.00, var_p:0.30557247559960554\nET000d_vs_HCHCHC var_ET000d:0.00, var_HCHCHC:0.00, var_p:0.32012689361581864\nET180d_vs_HCHCHC var_ET180d:0.00, var_HCHCHC:0.00, var_p:0.9050601083988341\ni=19\nET180d_vs_ET000d var_ET180d:0.00, var_ET000d:0.00, var_p:0.19500759284656902\nET000d_vs_HCHCHC var_ET000d:0.00, var_HCHCHC:0.00, var_p:0.28500613434918937\nET180d_vs_HCHCHC var_ET180d:0.00, var_HCHCHC:0.00, var_p:0.7395196967901001\n"
     },
     "output_type": "unknown"
    }
   ],
   "source": [
    "for i in range(20):\n",
    "\n",
    "    print(\"i=\"+str(i))\n",
    "    \n",
    "    lam_HCHCHC = np.array(gm_HCHCHC.lambdas_)\n",
    "    lam_ET180d = np.array(gm_ET180d.lambdas_)\n",
    "    lam_ET000d = np.array(gm_ET000d.lambdas_)\n",
    "    \n",
    "\n",
    "    var_ET180d = lam_ET180d[:, i]/np.sum(lam_ET180d, axis=1)\n",
    "    var_ET000d = lam_ET000d[:, i]/np.sum(lam_ET000d, axis=1)\n",
    "    var_HCHCHC = lam_HCHCHC[:, i]/np.sum(lam_HCHCHC, axis=1)\n",
    "\n",
    "    \n",
    "   \n",
    "    ts, ps = ttest_rel(var_ET180d, var_ET000d) \n",
    "    print(f'ET180d_vs_ET000d var_ET180d:{np.mean(var_ET180d):.2f}, var_ET000d:{np.mean(var_ET000d):.2f}, var_p:{ps}')\n",
    "\n",
    "\n",
    "    ts, ps = ttest_ind(var_ET000d, var_HCHCHC)\n",
    "    print(f'ET000d_vs_HCHCHC var_ET000d:{np.mean(var_ET000d):.2f}, var_HCHCHC:{np.mean(var_HCHCHC):.2f}, var_p:{ps}')\n",
    "\n",
    "\n",
    "    ts, ps = ttest_ind(var_ET180d, var_HCHCHC)\n",
    "    print(f'ET180d_vs_HCHCHC var_ET180d:{np.mean(var_ET180d):.2f}, var_HCHCHC:{np.mean(var_HCHCHC):.2f}, var_p:{ps}')"
   ]
  }
 ],
 "metadata": {
  "interpreter": {
   "hash": "f6eac6ea3f87aa8a18101560350ba9d76665d8c267d107134f193807daf6a975"
  },
  "kernelspec": {
   "display_name": "Python 3.7.9 64-bit",
   "language": "python",
   "name": "python3"
  },
  "language_info": {
   "codemirror_mode": {
    "name": "ipython",
    "version": 3
   },
   "file_extension": ".py",
   "mimetype": "text/x-python",
   "name": "python",
   "nbconvert_exporter": "python",
   "pygments_lexer": "ipython3",
   "version": "3.7.11"
  },
  "orig_nbformat": 2
 },
 "nbformat": 4,
 "nbformat_minor": 2
}
